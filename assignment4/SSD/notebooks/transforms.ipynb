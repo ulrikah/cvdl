{
 "cells": [
  {
   "cell_type": "code",
   "execution_count": 7,
   "metadata": {},
   "outputs": [],
   "source": [
    "import torch\n",
    "import torch.nn as nn\n",
    "import torchvision\n",
    "\n",
    "import sys\n",
    "import numpy as np\n",
    "import pathlib\n",
    "path = pathlib.Path()\n",
    "# Insert all modules a folder above\n",
    "sys.path.insert(0, str(path.absolute().parent))\n",
    "from ssd.config.defaults import cfg\n",
    "from ssd.data.transforms import *\n",
    "from ssd.data.datasets import build_dataset"
   ]
  },
  {
   "cell_type": "code",
   "execution_count": 23,
   "metadata": {},
   "outputs": [
    {
     "name": "stdout",
     "output_type": "stream",
     "text": [
      "datasets\n",
      "100\n",
      "Dataset loaded. Subset: train, number of images: 80\n",
      "<class 'tuple'>\n"
     ]
    }
   ],
   "source": [
    "config_path = \"../configs/waymo_resnet.yaml\"\n",
    "cfg.merge_from_file(config_path)\n",
    "\n",
    "print(cfg.DATASET_DIR)\n",
    "\n",
    "datasets = build_dataset(\n",
    "        '../datasets',\n",
    "        ['waymo_train'], transform=[],\n",
    "        target_transform=[], is_train=True)\n",
    "\n",
    "print(datasets[0][0])\n",
    "\n"
   ]
  },
  {
   "cell_type": "code",
   "execution_count": null,
   "metadata": {},
   "outputs": [],
   "source": []
  }
 ],
 "metadata": {
  "kernelspec": {
   "display_name": "Python 3",
   "language": "python",
   "name": "python3"
  },
  "language_info": {
   "codemirror_mode": {
    "name": "ipython",
    "version": 3
   },
   "file_extension": ".py",
   "mimetype": "text/x-python",
   "name": "python",
   "nbconvert_exporter": "python",
   "pygments_lexer": "ipython3",
   "version": "3.6.10"
  }
 },
 "nbformat": 4,
 "nbformat_minor": 2
}
