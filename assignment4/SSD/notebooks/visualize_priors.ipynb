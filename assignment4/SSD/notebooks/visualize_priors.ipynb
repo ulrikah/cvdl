{
 "cells": [
  {
   "cell_type": "code",
   "execution_count": 38,
   "metadata": {},
   "outputs": [],
   "source": [
    "import matplotlib.pyplot as plt\n",
    "from matplotlib.patches import Ellipse\n",
    "import sys\n",
    "import torch\n",
    "import numpy as np\n",
    "import pathlib\n",
    "path = pathlib.Path()\n",
    "# Insert all modules a folder above\n",
    "sys.path.insert(0, str(path.absolute().parent))\n",
    "from ssd.config.defaults import cfg\n",
    "from ssd.modeling.box_head.prior_box import PriorBox\n",
    "from ssd.utils.box_utils import convert_locations_to_boxes"
   ]
  },
  {
   "cell_type": "code",
   "execution_count": 2,
   "metadata": {},
   "outputs": [],
   "source": [
    "config_path = \"../configs/waymo_resnet.yaml\"\n",
    "cfg.merge_from_file(config_path)"
   ]
  },
  {
   "cell_type": "code",
   "execution_count": 3,
   "metadata": {},
   "outputs": [],
   "source": [
    "prior_box = PriorBox(cfg)"
   ]
  },
  {
   "cell_type": "code",
   "execution_count": 4,
   "metadata": {},
   "outputs": [
    {
     "name": "stdout",
     "output_type": "stream",
     "text": [
      "Prior box shape: torch.Size([7248, 4])\n",
      "First prior example: tensor([[0.0125, 0.0167, 0.0938, 0.0938],\n",
      "        [0.0125, 0.0167, 0.1326, 0.1326],\n",
      "        [0.0125, 0.0167, 0.1326, 0.0663],\n",
      "        [0.0125, 0.0167, 0.0663, 0.1326],\n",
      "        [0.0375, 0.0167, 0.0938, 0.0938]])\n"
     ]
    }
   ],
   "source": [
    "priors = prior_box()\n",
    "print(\"Prior box shape:\", priors.shape)\n",
    "print(\"First prior example:\", priors[:5])\n",
    "locations = torch.zeros_like(priors)[None]\n",
    "priors_as_location = convert_locations_to_boxes(locations, priors,cfg.MODEL.CENTER_VARIANCE, cfg.MODEL.SIZE_VARIANCE)[0]"
   ]
  },
  {
   "cell_type": "code",
   "execution_count": 82,
   "metadata": {},
   "outputs": [],
   "source": [
    "def plot_bbox(box):\n",
    "    cx, cy, w, h = box\n",
    "    x1, y1 = cx + w/2, cy + h/2\n",
    "    x0, y0 = cx - w/2, cy - h/2\n",
    "       \n",
    "    # rectangles\n",
    "    plt.plot(\n",
    "        [x0, x0, x1, x1, x0],\n",
    "        [y0, y1, y1, y0, y0]\n",
    "    )\n",
    "    \n",
    "def plot_box_centers(boxes, width=0.01, height=0.01):\n",
    "    fig = plt.figure(0)\n",
    "    ax = fig.add_subplot(111, aspect='equal')\n",
    "    plt.ylim([-0.1, 1.1])\n",
    "    plt.xlim([-0.1, 1.1])\n",
    "    for box in boxes:\n",
    "        cx, cy, w, h = box\n",
    "        e = Ellipse(xy=[cx, cy], width=width, height=height)\n",
    "        ax.add_artist(e)\n",
    "        e.set_clip_box(ax.bbox)\n",
    "        e.set_alpha(rnd.rand())\n",
    "        e.set_facecolor([.0, .0, .6])"
   ]
  },
  {
   "cell_type": "code",
   "execution_count": 83,
   "metadata": {},
   "outputs": [],
   "source": [
    "def box_indices():\n",
    "    feature_maps = cfg.MODEL.PRIORS.FEATURE_MAPS\n",
    "    boxes_per_location = cfg.MODEL.PRIORS.BOXES_PER_LOCATION\n",
    "\n",
    "    # total amount of boxes per feature map\n",
    "    box_indices = [0]\n",
    "    for i, ((w, h), b) in enumerate(zip(feature_maps, boxes_per_location)):\n",
    "        n_boxes = w*h*b\n",
    "        # print(f\"Feature map {i} [{w}, {h}]: {n_boxes}\")\n",
    "        box_indices.append(box_indices[i] + n_boxes)\n",
    "    \n",
    "    return box_indices"
   ]
  },
  {
   "cell_type": "code",
   "execution_count": 104,
   "metadata": {},
   "outputs": [
    {
     "name": "stdout",
     "output_type": "stream",
     "text": [
      "[0, 4800, 6600, 7080, 7200, 7224, 7248]\n",
      "[4, 6, 6, 6, 4, 4]\n",
      "[tensor([0.5000, 0.5000, 0.8250, 0.8250])]\n",
      "[tensor([0.5000, 0.5000, 0.9012, 0.9012])]\n",
      "[tensor([0.5000, 0.5000, 1.0000, 0.5834])]\n",
      "[tensor([0.5000, 0.5000, 0.5834, 1.0000])]\n",
      "[tensor([1.0000, 0.5000, 0.8250, 0.8250])]\n",
      "[tensor([1.0000, 0.5000, 0.9012, 0.9012])]\n",
      "[tensor([1.0000, 0.5000, 1.0000, 0.5834])]\n",
      "[tensor([1.0000, 0.5000, 0.5834, 1.0000])]\n",
      "[tensor([1.0000, 0.5000, 0.8250, 0.8250])]\n",
      "[tensor([1.0000, 0.5000, 0.9012, 0.9012])]\n",
      "[tensor([1.0000, 0.5000, 1.0000, 0.5834])]\n",
      "[tensor([1.0000, 0.5000, 0.5834, 1.0000])]\n",
      "[tensor([0.5000, 1.0000, 0.8250, 0.8250])]\n",
      "[tensor([0.5000, 1.0000, 0.9012, 0.9012])]\n",
      "[tensor([0.5000, 1.0000, 1.0000, 0.5834])]\n",
      "[tensor([0.5000, 1.0000, 0.5834, 1.0000])]\n",
      "[tensor([1.0000, 1.0000, 0.8250, 0.8250])]\n",
      "[tensor([1.0000, 1.0000, 0.9012, 0.9012])]\n",
      "[tensor([1.0000, 1.0000, 1.0000, 0.5834])]\n",
      "[tensor([1.0000, 1.0000, 0.5834, 1.0000])]\n",
      "[tensor([1.0000, 1.0000, 0.8250, 0.8250])]\n",
      "[tensor([1.0000, 1.0000, 0.9012, 0.9012])]\n",
      "[tensor([1.0000, 1.0000, 1.0000, 0.5834])]\n",
      "[tensor([1.0000, 1.0000, 0.5834, 1.0000])]\n"
     ]
    },
    {
     "name": "stderr",
     "output_type": "stream",
     "text": [
      "/Users/ulrikah/opt/anaconda3/envs/tdt4295/lib/python3.6/site-packages/ipykernel_launcher.py:14: MatplotlibDeprecationWarning: Adding an axes using the same arguments as a previous axes currently reuses the earlier instance.  In a future version, a new instance will always be created and returned.  Meanwhile, this warning can be suppressed, and the future behavior ensured, by passing a unique label to each axes instance.\n",
      "  \n"
     ]
    },
    {
     "data": {
      "image/png": "[encoded data removed]",
      "text/plain": [
       "<Figure size 432x288 with 1 Axes>"
      ]
     },
     "metadata": {
      "needs_background": "light"
     },
     "output_type": "display_data"
    },
    {
     "data": {
      "image/png": "[encoded data removed]",
      "text/plain": [
       "<Figure size 432x288 with 1 Axes>"
      ]
     },
     "metadata": {
      "needs_background": "light"
     },
     "output_type": "display_data"
    }
   ],
   "source": [
    "idxs = box_indices()\n",
    "print(idxs)\n",
    "\n",
    "prior_idx = [*range(7225, 7249)]\n",
    "\n",
    "# Visualizing all would take too much\n",
    "priors_as_location = [x for x in priors_as_location]\n",
    "#np.random.shuffle(priors_as_location)\n",
    "\n",
    "# boxes\n",
    "plt.ylim([-0.1, 1.1])\n",
    "plt.xlim([-0.1, 1.1])\n",
    "\n",
    "for idx in prior_idx:\n",
    "    for prior in priors_as_location[idx-1:idx]:\n",
    "        plot_bbox(prior)\n",
    "\n",
    "print(cfg.MODEL.PRIORS.BOXES_PER_LOCATION)\n",
    "        \n",
    "# centers\n",
    "for idx in prior_idx:\n",
    "    priors = priors_as_location[idx-1:idx]\n",
    "    print(priors)\n",
    "    plot_box_centers(priors)"
   ]
  },
  {
   "cell_type": "code",
   "execution_count": null,
   "metadata": {},
   "outputs": [],
   "source": []
  }
 ],
 "metadata": {
  "kernelspec": {
   "display_name": "Python 3",
   "language": "python",
   "name": "python3"
  },
  "language_info": {
   "codemirror_mode": {
    "name": "ipython",
    "version": 3
   },
   "file_extension": ".py",
   "mimetype": "text/x-python",
   "name": "python",
   "nbconvert_exporter": "python",
   "pygments_lexer": "ipython3",
   "version": "3.6.10"
  }
 },
 "nbformat": 4,
 "nbformat_minor": 4
}
